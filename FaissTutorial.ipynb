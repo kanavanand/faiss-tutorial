{
 "cells": [
  {
   "cell_type": "markdown",
   "id": "e4b2c691-a07d-4aea-b31d-81aab651144c",
   "metadata": {},
   "source": [
    "## FAISS"
   ]
  },
  {
   "cell_type": "markdown",
   "id": "634c6dab-f130-4504-b929-96ffa735b092",
   "metadata": {},
   "source": [
    "https://github.com/facebookresearch/faiss/wiki"
   ]
  },
  {
   "cell_type": "markdown",
   "id": "2df2669d-b6d2-41ca-9fde-777fdd03fdc9",
   "metadata": {
    "jp-MarkdownHeadingCollapsed": true,
    "tags": []
   },
   "source": [
    "#### Installation"
   ]
  },
  {
   "cell_type": "code",
   "execution_count": 1,
   "id": "afd8e488-abc9-40b6-8772-065262371de9",
   "metadata": {},
   "outputs": [],
   "source": [
    "# !pip3 install faiss-cpu\n",
    "# !pip3 install faiss-gpu"
   ]
  },
  {
   "cell_type": "markdown",
   "id": "dec2521f-21ec-46ee-965d-2b3fa5175d8b",
   "metadata": {},
   "source": [
    "### The Data-base is chosen large for experimentes"
   ]
  },
  {
   "cell_type": "code",
   "execution_count": 1,
   "id": "0b1535d7-70f5-4b2c-b848-2e544fe64718",
   "metadata": {},
   "outputs": [],
   "source": [
    "import numpy as np\n",
    "d = 64                           # dimension\n",
    "nb = int(25734008/2)                    # database size\n",
    "nq = 10000                       # nb of queries\n",
    "np.random.seed(1234)             # make reproducible\n",
    "xb = np.random.random((nb, d)).astype('float32')\n",
    "xb[:, 0] += np.arange(nb) / 1000.\n",
    "xq = np.random.random((nq, d)).astype('float32')\n",
    "xq[:, 0] += np.arange(nq) / 1000."
   ]
  },
  {
   "cell_type": "markdown",
   "id": "16a70dd2-cde7-4102-b28e-990a89e44765",
   "metadata": {},
   "source": [
    "### Running on CPU"
   ]
  },
  {
   "cell_type": "code",
   "execution_count": 2,
   "id": "63f5bdde-4ae1-43f8-b53b-97e23aa88341",
   "metadata": {},
   "outputs": [
    {
     "name": "stdout",
     "output_type": "stream",
     "text": [
      "12867004\n"
     ]
    }
   ],
   "source": [
    "import faiss                  # make faiss available\n",
    "index = faiss.IndexFlatL2(d)   # build the index\n",
    "index.add(xb)                  # add vectors to the index\n",
    "print(index.ntotal)"
   ]
  },
  {
   "cell_type": "markdown",
   "id": "5650be92-738c-4e14-bf56-e853578b4902",
   "metadata": {},
   "source": [
    "### Searching 1000 on cpu"
   ]
  },
  {
   "cell_type": "code",
   "execution_count": 3,
   "id": "7f0d552d-f295-425f-8b61-da8fff865223",
   "metadata": {},
   "outputs": [
    {
     "name": "stdout",
     "output_type": "stream",
     "text": [
      "796 ms ± 4.74 ms per loop (mean ± std. dev. of 7 runs, 1 loop each)\n"
     ]
    }
   ],
   "source": [
    "%%timeit\n",
    "k = 1000                          # we want to see 4 nearest neighbors\n",
    "D, I = index.search(xq[:1], k) # sanity check"
   ]
  },
  {
   "cell_type": "markdown",
   "id": "2f242c4f-958b-48c3-8723-8ab271a13a92",
   "metadata": {},
   "source": [
    "#### Using GPU"
   ]
  },
  {
   "cell_type": "code",
   "execution_count": 6,
   "id": "2bb75c4a-9b8c-4cbe-a119-e41b082ecbb1",
   "metadata": {},
   "outputs": [],
   "source": [
    "res = faiss.StandardGpuResources()  # use a single GPU"
   ]
  },
  {
   "cell_type": "code",
   "execution_count": 7,
   "id": "6224a09b-cac9-46ac-86b8-75ff6954393f",
   "metadata": {},
   "outputs": [],
   "source": [
    "gpu_index_flat = faiss.index_cpu_to_gpu(res, 0, index)\n",
    "gpu_index_flat.add(xb)      "
   ]
  },
  {
   "cell_type": "markdown",
   "id": "6227b247-6dc1-46a1-871f-0e4ae0cdc3a0",
   "metadata": {},
   "source": [
    "#### GPU can only search upto 2500 entires max"
   ]
  },
  {
   "cell_type": "code",
   "execution_count": 8,
   "id": "b0721dc5-906a-4df8-bbf8-dc8f65fe1916",
   "metadata": {},
   "outputs": [
    {
     "name": "stdout",
     "output_type": "stream",
     "text": [
      "129 ms ± 25.5 µs per loop (mean ± std. dev. of 7 runs, 10 loops each)\n"
     ]
    }
   ],
   "source": [
    "%%timeit\n",
    "k = 1000                          # we want to see 4 nearest neighbors\n",
    "D, I = gpu_index_flat.search(xq[:1], k) # sanity check"
   ]
  },
  {
   "cell_type": "markdown",
   "id": "6494b7bf-c438-40fa-bf99-88275b0d6952",
   "metadata": {},
   "source": [
    "### Faster Search"
   ]
  },
  {
   "cell_type": "markdown",
   "id": "8e01c928-c0a9-4cc8-9a49-1574d5a1b993",
   "metadata": {},
   "source": [
    "To speed up the search, it is possible to segment the dataset into pieces. We define Voronoi cells in the d-dimensional space, and each database vector falls in one of the cells. At search time, only the database vectors y contained in the cell the query x falls in and a few neighboring ones are compared against the query vector.\n",
    "\n",
    "This is done via the IndexIVFFlat index. This type of index requires a training stage, that can be performed on any collection of vectors that has the same distribution as the database vectors. In this case we just use the database vectors themselves.\n",
    "\n",
    "The IndexIVFFlat also requires another index, the quantizer, that assigns vectors to Voronoi cells. Each cell is defined by a centroid, and finding the Voronoi cell a vector falls in consists in finding the nearest neighbor of the vector in the set of centroids. This is the task of the other index, which is typically an IndexFlatL2.\n",
    "\n",
    "There are two parameters to the search method: nlist, the number of cells, and nprobe, the number of cells (out of nlist) that are visited to perform a search. The search time roughly increases linearly with the number of probes plus some constant due to the quantization.\n",
    "\n"
   ]
  },
  {
   "cell_type": "code",
   "execution_count": 4,
   "id": "1ad497ee-0c69-4eae-b61a-493a41e24ec1",
   "metadata": {},
   "outputs": [],
   "source": [
    "nlist = 100\n",
    "k = 4\n",
    "quantizer = faiss.IndexFlatL2(d)  # the other index\n",
    "index = faiss.IndexIVFFlat(quantizer, d, nlist)"
   ]
  },
  {
   "cell_type": "code",
   "execution_count": 5,
   "id": "56bb3c94-1209-4a77-a7c5-506c4f66b172",
   "metadata": {},
   "outputs": [],
   "source": [
    "assert not index.is_trained\n",
    "index.train(xb)\n",
    "assert index.is_trained"
   ]
  },
  {
   "cell_type": "code",
   "execution_count": 6,
   "id": "93b0ecba-9d13-42fd-a252-7384c3fb88e7",
   "metadata": {},
   "outputs": [],
   "source": [
    "index.add(xb)                  # add may be a bit slower as well"
   ]
  },
  {
   "cell_type": "code",
   "execution_count": 7,
   "id": "3498276e-d4d1-4349-a3f1-3edef9f56c72",
   "metadata": {},
   "outputs": [
    {
     "name": "stdout",
     "output_type": "stream",
     "text": [
      "9.23 ms ± 46.6 µs per loop (mean ± std. dev. of 7 runs, 100 loops each)\n"
     ]
    }
   ],
   "source": [
    "%%timeit\n",
    "k = 1000                          # we want to see 4 nearest neighbors\n",
    "D, I = index.search(xq[:1], k) # sanity check"
   ]
  },
  {
   "cell_type": "markdown",
   "id": "3aed9caf-614b-4d55-a097-ebf5cf787175",
   "metadata": {},
   "source": [
    "##### Results can be improves by adding more probe.. current probe=1\n",
    "which is the correct result. Note that getting a perfect result in this case is merely an artifact of the data distribution, as it is has a strong component on the x-axis which makes it easier to handle. The nprobe parameter is always a way of adjusting the tradeoff between speed and accuracy of the result. Setting nprobe = nlist gives the same result as the brute-force search (but slower)."
   ]
  },
  {
   "cell_type": "code",
   "execution_count": 8,
   "id": "cb05b34b-e7be-49fb-86f8-d5911394f7be",
   "metadata": {},
   "outputs": [],
   "source": [
    "index.nprobe = 10              # default nprobe is 1, try a few more"
   ]
  },
  {
   "cell_type": "code",
   "execution_count": 9,
   "id": "7a8782bc-7e30-44c5-967c-42c079c4b125",
   "metadata": {},
   "outputs": [
    {
     "name": "stdout",
     "output_type": "stream",
     "text": [
      "113 ms ± 1.58 ms per loop (mean ± std. dev. of 7 runs, 10 loops each)\n"
     ]
    }
   ],
   "source": [
    "%%timeit\n",
    "k = 1000                          # we want to see 4 nearest neighbors\n",
    "D, I = index.search(xq[:1], k) # sanity check"
   ]
  },
  {
   "cell_type": "code",
   "execution_count": null,
   "id": "0075ec00-e13c-476c-b15a-922910c3d2d1",
   "metadata": {
    "tags": []
   },
   "outputs": [],
   "source": []
  },
  {
   "cell_type": "code",
   "execution_count": null,
   "id": "c49d5e96-ec53-4c62-8d3a-c23084455116",
   "metadata": {},
   "outputs": [],
   "source": []
  }
 ],
 "metadata": {
  "environment": {
   "kernel": "python3",
   "name": "pytorch-gpu.1-11.m94",
   "type": "gcloud",
   "uri": "gcr.io/deeplearning-platform-release/pytorch-gpu.1-11:m94"
  },
  "kernelspec": {
   "display_name": "Python 3",
   "language": "python",
   "name": "python3"
  },
  "language_info": {
   "codemirror_mode": {
    "name": "ipython",
    "version": 3
   },
   "file_extension": ".py",
   "mimetype": "text/x-python",
   "name": "python",
   "nbconvert_exporter": "python",
   "pygments_lexer": "ipython3",
   "version": "3.7.12"
  }
 },
 "nbformat": 4,
 "nbformat_minor": 5
}
